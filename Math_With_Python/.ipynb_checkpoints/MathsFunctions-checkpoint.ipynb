{
 "cells": [
  {
   "cell_type": "code",
   "execution_count": 7,
   "id": "72a933cc",
   "metadata": {},
   "outputs": [
    {
     "name": "stdout",
     "output_type": "stream",
     "text": [
      "The Minimum number is:-- 10\n"
     ]
    }
   ],
   "source": [
    "# min function .............\n",
    "\n",
    "x=min(10,20,30)\n",
    "print(\"The Minimum number is:--\",x)"
   ]
  },
  {
   "cell_type": "code",
   "execution_count": 8,
   "id": "0ede4f5b",
   "metadata": {},
   "outputs": [
    {
     "name": "stdout",
     "output_type": "stream",
     "text": [
      "The Maximum number is :- 50\n"
     ]
    }
   ],
   "source": [
    "# Max function ..........\n",
    "y=max(20,50,40)\n",
    "print(\"The Maximum number is :-\",y)"
   ]
  },
  {
   "cell_type": "code",
   "execution_count": 9,
   "id": "2b970d7a",
   "metadata": {},
   "outputs": [
    {
     "name": "stdout",
     "output_type": "stream",
     "text": [
      "The Absolute Positive value is 7.85\n"
     ]
    }
   ],
   "source": [
    "# The abs() function returns the absolute (positive) value of the specified number:\n",
    "x=abs(-7.85)\n",
    "print(\"The Absolute Positive value is\",x)"
   ]
  },
  {
   "cell_type": "code",
   "execution_count": 11,
   "id": "d1761aea",
   "metadata": {},
   "outputs": [
    {
     "name": "stdout",
     "output_type": "stream",
     "text": [
      "4 is the Power of 3 is 64\n"
     ]
    }
   ],
   "source": [
    "# The pow(x, y) function returns the value of x to the power of y (xy).\n",
    "\n",
    "x=pow(4,3)\n",
    "print(\"4 is the Power of 3 is\",x)"
   ]
  },
  {
   "cell_type": "code",
   "execution_count": 12,
   "id": "6926cc96",
   "metadata": {},
   "outputs": [],
   "source": [
    "# Math Modulte"
   ]
  },
  {
   "cell_type": "code",
   "execution_count": 13,
   "id": "2c49c490",
   "metadata": {},
   "outputs": [],
   "source": [
    "import math"
   ]
  },
  {
   "cell_type": "code",
   "execution_count": 16,
   "id": "61054151",
   "metadata": {},
   "outputs": [
    {
     "name": "stdout",
     "output_type": "stream",
     "text": [
      "The Squareroot of 4 is:--  2.0\n"
     ]
    }
   ],
   "source": [
    "x=math.sqrt(4)\n",
    "print(\"The Squareroot of 4 is:-- \",x)"
   ]
  },
  {
   "cell_type": "code",
   "execution_count": 17,
   "id": "780755b6",
   "metadata": {},
   "outputs": [],
   "source": [
    "# The math.ceil() method rounds a number upwards to its nearest integer, and the math.floor() method \n",
    "#rounds a number downwards to its nearest integer, and returns the result:"
   ]
  },
  {
   "cell_type": "code",
   "execution_count": 18,
   "id": "de960608",
   "metadata": {},
   "outputs": [
    {
     "name": "stdout",
     "output_type": "stream",
     "text": [
      "2\n",
      "2\n"
     ]
    }
   ],
   "source": [
    "import math\n",
    "x=math.ceil(1.4)\n",
    "y=math.ceil(1.4)\n",
    "print(x)\n",
    "print(y)"
   ]
  },
  {
   "cell_type": "code",
   "execution_count": 2,
   "id": "ca3b5227",
   "metadata": {},
   "outputs": [
    {
     "name": "stdout",
     "output_type": "stream",
     "text": [
      "3.141592653589793\n"
     ]
    }
   ],
   "source": [
    "# The math.pi constant, returns the value of PI (3.14...):\n",
    "import math\n",
    "x=math.pi\n",
    "print(x)"
   ]
  },
  {
   "cell_type": "code",
   "execution_count": null,
   "id": "647add58",
   "metadata": {},
   "outputs": [],
   "source": []
  }
 ],
 "metadata": {
  "kernelspec": {
   "display_name": "Python 3",
   "language": "python",
   "name": "python3"
  },
  "language_info": {
   "codemirror_mode": {
    "name": "ipython",
    "version": 3
   },
   "file_extension": ".py",
   "mimetype": "text/x-python",
   "name": "python",
   "nbconvert_exporter": "python",
   "pygments_lexer": "ipython3",
   "version": "3.8.8"
  }
 },
 "nbformat": 4,
 "nbformat_minor": 5
}
